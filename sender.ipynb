{
 "cells": [
  {
   "cell_type": "code",
   "execution_count": null,
   "metadata": {},
   "outputs": [],
   "source": [
    "import requests, re\n",
    "# import json\n",
    "import sqlite3\n",
    "import nltk\n",
    "# import multiprocessing\n",
    "# import threading\n",
    "# import time\n",
    "import pandas as pd"
   ]
  },
  {
   "cell_type": "code",
   "execution_count": null,
   "metadata": {},
   "outputs": [],
   "source": [
    "# ALL FUNCTION HERE\n",
    "end_points = 'https://voiceviet.itrithuc.vn/api/v1/' # API ENDPOINT\n",
    "api_key = '812f2448624c42899fbf794f54f591f9' # API KEY\n",
    "\n",
    "# GET SESSION KEY\n",
    "def get_session():\n",
    "    login_url = end_points + 'user/login/speech@usth.edu.vn/c950f8a82221d74a357af014434de14cb9dc11850b8ecc2a356dd4c945df2518'\n",
    "    session = requests.session()\n",
    "    headers = {'Authorization-Key': api_key}\n",
    "    r = session.get(login_url, headers=headers)\n",
    "    data = r.json()\n",
    "    resp = data['resp']\n",
    "    return session, resp['token']\n",
    "\n",
    "# POST TEXT by API\n",
    "def post_text(text,cId):\n",
    "    session, token = get_session()\n",
    "    text = {\"text\": text}\n",
    "    payload = json.dumps(text,ensure_ascii=False).encode('utf8')\n",
    "    token = 'Bearer: ' + token\n",
    "    url = end_points + 'text/write/'+str(cId)+'/1'\n",
    "    headers = {'Authorization-Key': api_key, 'Authorization': token, 'Content-type': 'application/json'}\n",
    "    r = session.post(url, data=payload, headers=headers)\n",
    "    return r.text\n",
    "\n",
    "# GET RANDOM TEXT by API\n",
    "def get_text(tid):\n",
    "    url = end_points + 'text/' + str(tid)\n",
    "    headers = {'Authorization-Key': api_key}\n",
    "    r = requests.get(url, headers=headers)\n",
    "    return r\n",
    "\n",
    "def get_random():\n",
    "    url = end_points + 'text/random'\n",
    "    headers = {'Authorization-Key': api_key}\n",
    "    r = requests.get(url, headers=headers)\n",
    "    return r\n",
    "\n",
    "def get_domain(pS,pN):\n",
    "    url = end_points + 'domain/list/' + str(pS) +'/'+ str(pN)\n",
    "    headers = {'Authorization-Key': api_key}\n",
    "    r = requests.get(url, headers=headers)\n",
    "    return r\n",
    "    \n",
    "def post_category(name):\n",
    "    session, token = get_session()\n",
    "    url = end_points + 'category/'\n",
    "    token = 'Bearer: ' + token\n",
    "    payload = {'name': name, 'domainId': 8}\n",
    "    headers = {'Authorization-Key': api_key, 'Authorization': token}\n",
    "    r = requests.post(url, json=payload, headers=headers)\n",
    "    return r.text\n",
    "\n",
    "def get_category(pS,pN):\n",
    "    url = end_points + 'category/list/' + str(pS) +'/'+ str(pN)\n",
    "    headers = {'Authorization-Key': api_key}\n",
    "    r = requests.get(url, headers=headers)\n",
    "    return r\n",
    "\n",
    "def get_cat_text(cId, pS, pN):\n",
    "    session, token = get_session()\n",
    "    url = end_points + 'category/'+str(cId)+'/text/' + str(pS) +'/'+ str(pN)\n",
    "    headers = {'Authorization-Key': api_key, 'Authorization': token}\n",
    "    r = session.get(url, headers=headers)\n",
    "    return url    \n",
    "\n",
    "# FUNCTION TO CONNECT TO DATABASE\n",
    "# def create_connection():\n",
    "#     conn = sqlite3.connect(\"new_mt.db\")\n",
    "#     curr = self.conn.cursor()\n",
    "\n",
    "# # FUNCTION TO CREATE TABLE\n",
    "# def create_table():\n",
    "#     curr.execute(\"\"\"DROP TABLE IF EXISTS summary\"\"\")\n",
    "#     curr.execute(\"\"\"create table summary(id integer primary key, summary text unique, tag text)\"\"\")\n",
    "\n",
    "# FUNCTION TO CLEAN TEXT\n",
    "def clean_text(text):\n",
    "#         print('HERE: ',len(text))\n",
    "    text = re.sub('–','',text)\n",
    "    text = re.sub(r'\\([^)]*\\)', '', text)\n",
    "    text = re.sub('\\W+',' ', text)\n",
    "    text = re.sub(' +',' ',text)\n",
    "    text = text.lstrip()\n",
    "    text = text.rstrip()\n",
    "    text = text.lower()\n",
    "    text = ' '.join( [w for w in text.split() if len(w)>1] )\n",
    "    return text\n",
    "\n",
    "# # FUNCTION TO STORE DATA TO DATABASE\n",
    "# def store_db(self, item):\n",
    "#     split_text = item['summary'][0].split(\". \") \n",
    "#     for i in range(len(split_text)):\n",
    "# #               print(\"HERE: \", split_text[i], item['tag'])\n",
    "#         self.curr.execute(\"\"\"insert or ignore into summary (summary, tag) values (?,?)\"\"\",(split_text[i], item['tag']))\n",
    "#         self.conn.commit()"
   ]
  },
  {
   "cell_type": "code",
   "execution_count": null,
   "metadata": {},
   "outputs": [],
   "source": [
    "tag = \"Random\"\n",
    "conn = sqlite3.connect(\"random.db\")\n",
    "curr = conn.cursor()\n",
    "curr.execute(\"SELECT * FROM summary WHERE tag = ?\",(tag,))\n",
    "for row in curr:\n",
    "    post_text(row[1],150)\n",
    "    print(row[0])\n",
    "# for i in range(len(datastore)):\n",
    "#     if len(datastore[i]['summary']) > 1:\n",
    "#         datastore[i]['summary'] = [' '.join(datastore[i]['summary'])]\n",
    "#         datastore[i]['summary'][0] = datastore[i]['summary'][0].replace('\\xa0','')\n",
    "# # print(datastore[0]['summary'][0])\n",
    "#     post_text(datastore[i]['summary'][0],150)"
   ]
  },
  {
   "cell_type": "code",
   "execution_count": null,
   "metadata": {},
   "outputs": [],
   "source": [
    "r = get_text(148200)\n",
    "json_data = json.loads(r.text)\n",
    "# data = json_data['resp']\n",
    "# data = data['text']\n",
    "# data = data.decode('utf-8')\n",
    "json_data"
   ]
  },
  {
   "cell_type": "code",
   "execution_count": null,
   "metadata": {},
   "outputs": [],
   "source": [
    "get_category(150,1).text"
   ]
  },
  {
   "cell_type": "code",
   "execution_count": null,
   "metadata": {},
   "outputs": [],
   "source": [
    "get_category(150,1).text"
   ]
  },
  {
   "cell_type": "code",
   "execution_count": null,
   "metadata": {},
   "outputs": [],
   "source": [
    "post_text(\"UBND TP.HCM cho biết, vừa qua TP đã yêu cầu các sở-ngành, UBND quận-huyện tuyên truyền, vận động, hướng dẫn người dân, hộ gia đình, chủ nguồn thải thực hiện phân loại chất thải rắn sinh hoạt tại nguồn từ nay cho đến hết quý 2/2019.\",147)"
   ]
  },
  {
   "cell_type": "code",
   "execution_count": null,
   "metadata": {},
   "outputs": [],
   "source": [
    "get_text(148500).text"
   ]
  },
  {
   "cell_type": "code",
   "execution_count": null,
   "metadata": {},
   "outputs": [],
   "source": [
    "import ipdb\n",
    "def Get_raw_text(threadName):\n",
    "    conn = sqlite3.connect(\"random.db\")\n",
    "    curr = conn.cursor()\n",
    "#     print('Start')\n",
    "    i=0\n",
    "    while i<50000:\n",
    "        try:\n",
    "            r = get_random()\n",
    "            json_data = json.loads(r.text)\n",
    "            text = json_data['resp']['text']\n",
    "            curr.execute(\"\"\"insert or ignore into raw (text) values (?)\"\"\",(text,))\n",
    "            conn.commit()\n",
    "            print(threadName + \": \" + str(i))\n",
    "            i += 1\n",
    "        except:\n",
    "            continue\n",
    "def Get_text(df,words):\n",
    "#     ipdb.set_trace()\n",
    "    print(\"Hello\")\n",
    "    conn = sqlite3.connect(\"random.db\")\n",
    "    curr = conn.cursor()\n",
    "#     curr.execute(\"SELECT * from raw\")\n",
    "#     result = curr.fetchall()\n",
    "#     df = pd.DataFrame(columns=['raw_text'])\n",
    "#     for i in result:\n",
    "#         row = [i[1]]\n",
    "#         df.loc[len(df)] = row\n",
    "    for i in range(len(df)):\n",
    "        text = df.text[i]\n",
    "        text = clean_text(text)       \n",
    "        text = \" \".join(w for w in nltk.wordpunct_tokenize(text) if w in words)\n",
    "        text = '<s> '+text+' </s>'\n",
    "        curr.execute(\"\"\"insert or ignore into summary (text) values (?)\"\"\",(text,))\n",
    "        conn.commit()\n",
    "        print(str(i) + text)"
   ]
  },
  {
   "cell_type": "code",
   "execution_count": null,
   "metadata": {},
   "outputs": [],
   "source": [
    "import traceback\n",
    "with open('Viet74K.txt') as f:\n",
    "    lines = f.read().splitlines()\n",
    "lines\n",
    "one_lines = ''\n",
    "for i in range(len(lines)):\n",
    "    one_lines += ' ' + lines[i]\n",
    "words = set(one_lines.split())"
   ]
  },
  {
   "cell_type": "code",
   "execution_count": null,
   "metadata": {},
   "outputs": [],
   "source": [
    "# words\n",
    "# conn = sqlite3.connect(\"random.db\")\n",
    "# curr = conn.cursor()\n",
    "# curr.execute(\"\"\"DROP TABLE IF EXISTS raw\"\"\")\n",
    "# curr.execute(\"\"\"create table raw(id integer primary key, text text unique)\"\"\")\n",
    "# curr.close()\n",
    "# conn.close()\n",
    "\n",
    "class myThread (threading.Thread):\n",
    "    def __init__(self, name):\n",
    "        threading.Thread.__init__(self)\n",
    "        self.name = name\n",
    "    def run(self):\n",
    "        print (\"Starting \" + self.name)\n",
    "        Get_raw_text(self.name)\n",
    "        print (\"Exiting \" + self.name)\n",
    "\n",
    "threads = []\n",
    "# Create new threads\n",
    "for m in range(1,15):\n",
    "    thread = myThread(\"Thread-\"+str(m))\n",
    "    threads.append(thread)\n",
    "\n",
    "# Start new Threads\n",
    "for t in threads:\n",
    "    t.start()\n",
    "for t in threads:\n",
    "    t.join()\n",
    "# thread1.start()\n",
    "# thread2.start()\n",
    "# thread1.join()\n",
    "# thread2.join()\n",
    "print (\"Exiting Main Thread\")\n",
    "# _thread.start_new_thread"
   ]
  },
  {
   "cell_type": "code",
   "execution_count": null,
   "metadata": {},
   "outputs": [],
   "source": [
    "conn = sqlite3.connect('./random.db')\n",
    "curr = conn.cursor()\n",
    "curr.execute(\"SELECT * from summary WHERE id > 57577\")\n",
    "result = curr.fetchall()\n",
    "df = pd.DataFrame(columns=['text'])\n",
    "for i in result:\n",
    "    row = [i[1]]\n",
    "    df.loc[len(df)] = row"
   ]
  },
  {
   "cell_type": "code",
   "execution_count": null,
   "metadata": {},
   "outputs": [],
   "source": [
    "# 57577\n",
    "Get_text(df,words)"
   ]
  },
  {
   "cell_type": "code",
   "execution_count": null,
   "metadata": {},
   "outputs": [],
   "source": [
    "with open('plus++_text.txt', 'w') as f:\n",
    "    for i in range(len(df)):\n",
    "        f.write(df.text[i]+'\\n')"
   ]
  },
  {
   "cell_type": "code",
   "execution_count": null,
   "metadata": {},
   "outputs": [],
   "source": [
    "df"
   ]
  },
  {
   "cell_type": "code",
   "execution_count": null,
   "metadata": {},
   "outputs": [],
   "source": []
  }
 ],
 "metadata": {
  "kernelspec": {
   "display_name": "Python 3",
   "language": "python",
   "name": "python3"
  },
  "language_info": {
   "codemirror_mode": {
    "name": "ipython",
    "version": 3
   },
   "file_extension": ".py",
   "mimetype": "text/x-python",
   "name": "python",
   "nbconvert_exporter": "python",
   "pygments_lexer": "ipython3",
   "version": "3.7.3"
  }
 },
 "nbformat": 4,
 "nbformat_minor": 2
}
